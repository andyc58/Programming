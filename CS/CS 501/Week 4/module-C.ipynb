{
 "cells": [
  {
   "cell_type": "markdown",
   "metadata": {},
   "source": [
    "## Module submission header\n",
    "### Submission preparation instructions \n",
    "_Completion of this header is mandatory, subject to a 2-point deduction to the assignment._ Only add plain text in the designated areas, i.e., replacing the relevant 'NA's. You must fill out all group member Names and Drexel email addresses in the below markdown list, under header __Module submission group__. It is required to fill out descriptive notes pertaining to any tutoring support received in the completion of this submission under the __Additional submission comments__ section at the bottom of the header. If no tutoring support was received, leave NA in place. You may as well list other optional comments pertaining to the submission at bottom. _Any distruption of this header's formatting will make your group liable to the 2-point deduction._\n",
    "\n",
    "### Module submission group\n",
    "- Group member 1\n",
    "    - Name: Abbeer Wani\n",
    "    - Email: aw3527@drexel.edu\n",
    "- Group member 2\n",
    "    - Name: Andy Cherney\n",
    "    - Email: alc466@drexel.edu\n",
    "- Group member 3\n",
    "    - Name: Kexin Shang\n",
    "    - Email: ks4254@drexel.edu\n",
    "- Group member 4\n",
    "    - Name: Robert Logovinsky\n",
    "    - Email: rsl32@drexel.edu\n",
    "\n",
    "### Additional submission comments\n",
    "- Tutoring support received: NA\n",
    "- Other (other): NA"
   ]
  },
  {
   "cell_type": "markdown",
   "metadata": {},
   "source": [
    "# Assignment Group 2"
   ]
  },
  {
   "cell_type": "markdown",
   "metadata": {},
   "source": [
    "## Module C _(23 points)_\n",
    "\n",
    "__C1.__ _(3 points)_ First, complete the function below, which is intended to read the text from `data/tempest.txt` and split its content by a delimiter into scenes, using a pattern that matches the scene headers for a delimiter via the `re.split(delim, text)` function (__Section 4.4.1.2__)."
   ]
  },
  {
   "cell_type": "code",
   "execution_count": 1,
   "metadata": {},
   "outputs": [],
   "source": [
    "# C1:Function(2/3)\n",
    "\n",
    "import re\n",
    "\n",
    "def load_and_split(delim, file_path):\n",
    "    \n",
    "    #---your code starts here---\n",
    "    \n",
    "    with open(file_path, \"r\") as f:\n",
    "        text = f.read()\n",
    "    \n",
    "    scene_texts = re.split(delim, text)\n",
    "    \n",
    "    return scene_texts"
   ]
  },
  {
   "cell_type": "markdown",
   "metadata": {},
   "source": [
    "For reference, your output should be:\n",
    "```\n",
    "(19,\n",
    " ['SCENE 1',\n",
    "  'SCENE 2',\n",
    "  'SCENE 1',\n",
    "  'SCENE 2',\n",
    "  'SCENE 1',\n",
    "  'SCENE 2',\n",
    "  'SCENE 3',\n",
    "  'SCENE 1',\n",
    "  'SCENE 1'])\n",
    "```"
   ]
  },
  {
   "cell_type": "code",
   "execution_count": 2,
   "metadata": {},
   "outputs": [
    {
     "data": {
      "text/plain": [
       "(19,\n",
       " ['SCENE 1',\n",
       "  'SCENE 2',\n",
       "  'SCENE 1',\n",
       "  'SCENE 2',\n",
       "  'SCENE 1',\n",
       "  'SCENE 2',\n",
       "  'SCENE 3',\n",
       "  'SCENE 1',\n",
       "  'SCENE 1'])"
      ]
     },
     "execution_count": 2,
     "metadata": {},
     "output_type": "execute_result"
    }
   ],
   "source": [
    "# C1:SanityCheck\n",
    "\n",
    "scene_texts = load_and_split(\"(SCENE\\s+\\d+)\", \"data/tempest.txt\")\n",
    "len(scene_texts), scene_texts[1::2]"
   ]
  },
  {
   "cell_type": "markdown",
   "metadata": {},
   "source": [
    "Is the first element returned by the `re.split()` function desirable as literary content? "
   ]
  },
  {
   "cell_type": "code",
   "execution_count": 3,
   "metadata": {},
   "outputs": [
    {
     "name": "stdout",
     "output_type": "stream",
     "text": [
      "No\n"
     ]
    }
   ],
   "source": [
    "# C1:Inline(1/3)\n",
    "\n",
    "# Is the first element returned by the `re.split()` \n",
    "# function desirable as literary content? \n",
    "# Print one of \"Yes\" or \"No\"\n",
    "print(\"No\")"
   ]
  },
  {
   "cell_type": "markdown",
   "metadata": {},
   "source": [
    "__C2.__ _(7 points)_ Now let's make sure we've really managed to get all of the scenes and their structure! Notice that the scene number repeat&mdash;this is because they restart with each `ACT`, and there are multiple `SCENE 1`s, etc., per act which we'd like to separate and structure. In particular, update the delimiter from __C1__ to _flexibly_ capture the `ACT` information, too. \n",
    "\n",
    "For reference, your output should be:\n",
    "```\n",
    "(19,\n",
    " ['ACT I. SCENE 1',\n",
    "  'SCENE 2',\n",
    "  'ACT II. SCENE 1',\n",
    "  'SCENE 2',\n",
    "  'ACT III. SCENE 1',\n",
    "  'SCENE 2',\n",
    "  'SCENE 3',\n",
    "  'ACT IV. SCENE 1',\n",
    "  'ACT V. SCENE 1'])\n",
    "```"
   ]
  },
  {
   "cell_type": "code",
   "execution_count": 4,
   "metadata": {},
   "outputs": [
    {
     "data": {
      "text/plain": [
       "(19,\n",
       " ['ACT I. SCENE 1',\n",
       "  'SCENE 2',\n",
       "  'ACT II. SCENE 1',\n",
       "  'SCENE 2',\n",
       "  'ACT III. SCENE 1',\n",
       "  'SCENE 2',\n",
       "  'SCENE 3',\n",
       "  'ACT IV. SCENE 1',\n",
       "  'ACT V. SCENE 1'])"
      ]
     },
     "execution_count": 4,
     "metadata": {},
     "output_type": "execute_result"
    }
   ],
   "source": [
    "# C2:Inline(5/7)\n",
    "\n",
    "#---your code starts here---\n",
    "\n",
    "delim = r\"((?:ACT\\s\\w+\\.\\s)*(?:SCENE\\s\\d))\"\n",
    "\n",
    "#---your code stops here---\n",
    "act_scene_texts = load_and_split(delim, \"data/tempest.txt\")\n",
    "len(act_scene_texts), act_scene_texts[1::2]"
   ]
  },
  {
   "cell_type": "markdown",
   "metadata": {},
   "source": [
    "Now review the delimited text from `ACT. I. SCENE 1` and answer the following `Inline()` question, which addresses whether each speaker-speech pair can be separated simply by a newline-delimiting split.\n",
    "\n",
    "For reference, the first scene's text should begin with:\n",
    "```\n",
    "On a ship at sea; a tempestuous noise of thunder and lightning\n",
    "heard\n",
    "\n",
    "Enter a SHIPMASTER and a BOATSWAIN\n",
    "\n",
    "  MASTER. Boatswain!\n",
    "  BOATSWAIN. Here, master; what cheer?\n",
    "  MASTER. Good! Speak to th' mariners; fall to't yarely, or\n",
    "    we run ourselves a\n",
    "```"
   ]
  },
  {
   "cell_type": "code",
   "execution_count": 5,
   "metadata": {},
   "outputs": [
    {
     "name": "stdout",
     "output_type": "stream",
     "text": [
      "No\n"
     ]
    }
   ],
   "source": [
    "# C2:Inline(2/7)\n",
    "\n",
    "# Will a simple split by newline, i.e., by '\\n' separate the\n",
    "# different statements, i.e., is each line a different speaker-speech pair?\n",
    "# Print one either \"Yes\" or \"No\"\n",
    "print(\"No\")"
   ]
  },
  {
   "cell_type": "markdown",
   "metadata": {},
   "source": [
    "__C3.__ _(8 points)_ Now your job is to complete the `process_scenes` function. In particular, for each scene in each act use regular expressions to separate the (newline delimited) lines, separate the speakers from the beginnings of their speeches, and collect the multiline speeches that follow. Each speaker-speech pair should then be stored in the `defaultdict` structure being utilized in the `SanityCheck` below. In particular storing each scene's speakers/speechs as a list of list-pairs. For example, from the `SanityCheck` below:\n",
    "```\n",
    "data['ACT I']['SCENE 1'][i][0]\n",
    "```\n",
    "keys for the `i`th speaker in `'SCENE 1'` of `'ACT I'`."
   ]
  },
  {
   "cell_type": "code",
   "execution_count": 6,
   "metadata": {
    "scrolled": true
   },
   "outputs": [],
   "source": [
    "# C3:Function(6/8)\n",
    "\n",
    "from collections import defaultdict\n",
    "\n",
    "def process_scenes(act_scene_texts):\n",
    "    \n",
    "    data = defaultdict(lambda : defaultdict(list))\n",
    "    current_act, current_scene = \"\", \"\"\n",
    "    for act_scene_heading, scene_text in zip(act_scene_texts[1::2], \n",
    "                                         act_scene_texts[2::2]):\n",
    "        \n",
    "        \n",
    "        ## if it's a new act, update the current_act value\n",
    "        if act_scene_heading[:3] == \"ACT\":\n",
    "            \n",
    "            #---your code starts here--- (separate and collect the act/scene information)\n",
    "           \n",
    "            current_act, current_scene = act_scene_heading.split(\". \")\n",
    "            #---your code stops here---\n",
    "            \n",
    "        else: ## otherwise assign the act_scene_heading\n",
    "            \n",
    "            #---your code starts here--- (just update the current_scene)\n",
    "            current_scene = act_scene_heading\n",
    "            \n",
    "            #---your code stops here---\n",
    "\n",
    "        ## now separate the speaker names and collect each speech (including\n",
    "        ## multi-line concatenations) to pair the speeches with the speakers\n",
    "        speaker, speech = \"\", \"\"\n",
    "\n",
    "        for line in scene_text.split(\"\\n\"):\n",
    "            #---your code starts here\n",
    "            \n",
    "            if not line:\n",
    "                continue\n",
    "\n",
    "            if re.match(\"[A-Z]+(?=\\.)\", line.strip()):\n",
    "                if speaker and speech:\n",
    "                    data[current_act][current_scene].append([speaker, speech])\n",
    "                    speech = \"\"\n",
    "                matches = re.match(\"([A-Z]+)(\\.\\s+)(.*)\",line.strip())\n",
    "                speaker = matches.group(1)\n",
    "                speech = matches.group(3)\n",
    "                continue\n",
    "          \n",
    "            speech += line         \n",
    "            #---your code stops here---\n",
    "    return data\n"
   ]
  },
  {
   "cell_type": "markdown",
   "metadata": {},
   "source": [
    "For reference, your output should be:\n",
    "```\n",
    "---\n",
    "\n",
    "Speaker: MASTER\n",
    "Speech: Boatswain!\n",
    "\n",
    "---\n",
    "\n",
    "Speaker: BOATSWAIN\n",
    "Speech: Here, master; what cheer?\n",
    "\n",
    "---\n",
    "\n",
    "Speaker: MASTER\n",
    "Speech: Good! Speak to th' mariners; fall to't yarely, or    we run ourselves aground; bestir, bestir.               Exit                       Enter MARINERS\n",
    "\n",
    "---\n",
    "\n",
    "```"
   ]
  },
  {
   "cell_type": "code",
   "execution_count": 7,
   "metadata": {},
   "outputs": [
    {
     "name": "stdout",
     "output_type": "stream",
     "text": [
      "---\n",
      "\n",
      "Speaker: MASTER\n",
      "Speech: Boatswain!\n",
      "\n",
      "---\n",
      "\n",
      "Speaker: BOATSWAIN\n",
      "Speech: Here, master; what cheer?\n",
      "\n",
      "---\n",
      "\n",
      "Speaker: MASTER\n",
      "Speech: Good! Speak to th' mariners; fall to't yarely, or    we run ourselves aground; bestir, bestir.               Exit                       Enter MARINERS\n",
      "\n",
      "---\n",
      "\n"
     ]
    }
   ],
   "source": [
    "# C3:SanityCheck\n",
    "\n",
    "data = process_scenes(act_scene_texts)\n",
    "print('---\\n')\n",
    "for i in range(3):\n",
    "    print('Speaker: ' + data['ACT I']['SCENE 1'][i][0])\n",
    "    print('Speech: '+ data['ACT I']['SCENE 1'][i][1])\n",
    "    print('\\n---\\n')"
   ]
  },
  {
   "cell_type": "markdown",
   "metadata": {},
   "source": [
    "Reviewing the output, have we correctly handled structure stage direction?"
   ]
  },
  {
   "cell_type": "code",
   "execution_count": 8,
   "metadata": {},
   "outputs": [
    {
     "name": "stdout",
     "output_type": "stream",
     "text": [
      "No\n"
     ]
    }
   ],
   "source": [
    "# C3:Inline(2/8)\n",
    "\n",
    "# Reviewing the output, is structure for stage direction handled correctly?\n",
    "# Print either \"Yes\" or \"No\"\n",
    "print(\"No\")"
   ]
  },
  {
   "cell_type": "markdown",
   "metadata": {},
   "source": [
    "__C4.__ _(5 points)_ Finally, complete the function below by collecting all of the speakers in the data (across all `'ACT'`s and `'SCENE'`s) to see which speakers had the most lines.\n",
    "\n",
    "Now count up the number of times each character spoke in the entire book. Print out the speakers and their speech counts from most to least. Remark on any limitations your work in this exercise's preprocessing in the response box below. Do you see any artifacts of imprecision in your regex?"
   ]
  },
  {
   "cell_type": "code",
   "execution_count": 9,
   "metadata": {},
   "outputs": [],
   "source": [
    "# C4:Function(3/5)\n",
    "\n",
    "from collections import Counter\n",
    "\n",
    "def count_speaker_lines(data):\n",
    "    speech_counts = Counter()\n",
    "    \n",
    "    #---your code starts here---\n",
    "    for scene_info in data.values():\n",
    "        for speaker_info in scene_info.values():\n",
    "                speech_counts.update(speaker for speaker, speech in speaker_info)\n",
    "\n",
    "    #---your code stops here---\n",
    "    \n",
    "    return speech_counts\n"
   ]
  },
  {
   "cell_type": "markdown",
   "metadata": {},
   "source": [
    "For reference, your output should be:\n",
    "```\n",
    "[('PROSPERO', 113),\n",
    " ('SEBASTIAN', 67),\n",
    " ('STEPHANO', 60),\n",
    " ('ANTONIO', 59),\n",
    " ('GONZALO', 52)]\n",
    "```"
   ]
  },
  {
   "cell_type": "code",
   "execution_count": 14,
   "metadata": {},
   "outputs": [
    {
     "data": {
      "text/plain": [
       "[('PROSPERO', 112),\n",
       " ('SEBASTIAN', 67),\n",
       " ('STEPHANO', 60),\n",
       " ('ANTONIO', 59),\n",
       " ('GONZALO', 51)]"
      ]
     },
     "execution_count": 14,
     "metadata": {},
     "output_type": "execute_result"
    }
   ],
   "source": [
    "# C4:SanityCheck\n",
    "\n",
    "speech_counts = count_speaker_lines(data)\n",
    "speech_counts.most_common(5)"
   ]
  },
  {
   "cell_type": "markdown",
   "metadata": {},
   "source": [
    "Which speaker spoke more lines, `'PERMISSION'` or `'FRANCISCO'`?"
   ]
  },
  {
   "cell_type": "code",
   "execution_count": 1,
   "metadata": {},
   "outputs": [
    {
     "name": "stdout",
     "output_type": "stream",
     "text": [
      "Prospero\n"
     ]
    }
   ],
   "source": [
    "# C4:Inline(1/5)\n",
    "\n",
    "# Which speaker spoke more lines, Prospero or FRANCISCO?\n",
    "# Print one of \"PERMISSION\" or \"FRANCISCO\"\n",
    "print(\"Prospero\") # Could not see PERMISSION in counts"
   ]
  },
  {
   "cell_type": "markdown",
   "metadata": {},
   "source": [
    "Is it a problem that `'PERMISSION'` spoke this many lines? In other words, if we want to analyze the data we've structured in this exercise, are we going to have to do more work with how we determine and/or filter speaker-speech pairs?"
   ]
  },
  {
   "cell_type": "code",
   "execution_count": 13,
   "metadata": {},
   "outputs": [
    {
     "name": "stdout",
     "output_type": "stream",
     "text": [
      "Probably?\n"
     ]
    }
   ],
   "source": [
    "# C4:Inline(1/5)\n",
    "\n",
    "# Is it a problem that PERMISSION spoke this many lines?\n",
    "# Print one of \"Probably?\" or \"Probably not.\"\n",
    "print(\"Probably?\")"
   ]
  },
  {
   "cell_type": "code",
   "execution_count": null,
   "metadata": {},
   "outputs": [],
   "source": []
  }
 ],
 "metadata": {
  "kernelspec": {
   "display_name": "Python 3",
   "language": "python",
   "name": "python3"
  },
  "language_info": {
   "codemirror_mode": {
    "name": "ipython",
    "version": 3
   },
   "file_extension": ".py",
   "mimetype": "text/x-python",
   "name": "python",
   "nbconvert_exporter": "python",
   "pygments_lexer": "ipython3",
   "version": "3.9.6"
  }
 },
 "nbformat": 4,
 "nbformat_minor": 4
}
