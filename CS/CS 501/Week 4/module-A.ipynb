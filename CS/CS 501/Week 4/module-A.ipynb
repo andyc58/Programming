{
 "cells": [
  {
   "cell_type": "markdown",
   "metadata": {},
   "source": [
    "## Module submission header\n",
    "### Submission preparation instructions \n",
    "_Completion of this header is mandatory, subject to a 2-point deduction to the assignment._ Only add plain text in the designated areas, i.e., replacing the relevant 'NA's. You must fill out all group member Names and Drexel email addresses in the below markdown list, under header __Module submission group__. It is required to fill out descriptive notes pertaining to any tutoring support received in the completion of this submission under the __Additional submission comments__ section at the bottom of the header. If no tutoring support was received, leave NA in place. You may as well list other optional comments pertaining to the submission at bottom. _Any distruption of this header's formatting will make your group liable to the 2-point deduction._\n",
    "\n",
    "### Module submission group\n",
    "- Group member 1\n",
    "    - Name: Abbeer Wani\n",
    "    - Email: aw3527@drexel.edu\n",
    "- Group member 2\n",
    "    - Name: Andy Cherney\n",
    "    - Email: alc466@drexel.edu\n",
    "- Group member 3\n",
    "    - Name: Kexin Shang\n",
    "    - Email: ks4254@drexel.edu\n",
    "- Group member 4\n",
    "    - Name: Robert Logovinsky\n",
    "    - Email: rsl32@drexel.edu\n",
    "\n",
    "### Additional submission comments\n",
    "- Tutoring support received: NA\n",
    "- Other (other): NA"
   ]
  },
  {
   "cell_type": "markdown",
   "metadata": {},
   "source": [
    "# Assignment Group 1\n",
    "\n",
    "## Module A _(25 points)_\n"
   ]
  },
  {
   "cell_type": "markdown",
   "metadata": {},
   "source": [
    "__A1.__ _(2 points)_ In this module, you will be working with the [Seinfeld Chronicles dataset](https://www.kaggle.com/thec03u5/seinfeld-chronicles). Create an account on [Kaggle](https://www.kaggle.com) and download the `scripts.csv` file from the dataset and move it into the `data` directory. Complete the function below to read the `data/scripts.csv` file and return its lines as a list. "
   ]
  },
  {
   "cell_type": "code",
   "execution_count": 36,
   "metadata": {},
   "outputs": [],
   "source": [
    "# A1:Function(2/2)\n",
    "\n",
    "def load_scripts(path_to_scripts):\n",
    "    \n",
    "    #---Your code starts here---\n",
    "    with open(path_to_scripts) as file:\n",
    "        seinfeld = file.readlines()\n",
    "\n",
    "    \n",
    "    #---Your code stops here---\n",
    "    \n",
    "    return seinfeld\n"
   ]
  },
  {
   "cell_type": "markdown",
   "metadata": {},
   "source": [
    "For reference, your output should be:\n",
    "```\n",
    "(54617,\n",
    " [',Character,Dialogue,EpisodeNo,SEID,Season\\n',\n",
    "  '0,JERRY,\"Do you know what this is all about? Do you know, why were here? To be out, this is out...and out is one of the single most enjoyable experiences of life. People...did you ever hear people talking about We should go out? This is what theyre talking about...this whole thing, were all out now, no one is home. Not one person here is home, were all out! There are people tryin to find us, they dont know where we are. (on an imaginary phone) Did you ring?, I cant find him. Where did he go? He didnt tell me where he was going. He must have gone out. You wanna go out you get ready, you pick out the clothes, right? You take the shower, you get all ready, get the cash, get your friends, the car, the spot, the reservation...Then youre standing around, whatta you do? You go We gotta be getting back. Once youre out, you wanna get back! You wanna go to sleep, you wanna get up, you wanna go out again tomorrow, right? Where ever you are in life, its my feeling, youve gotta go.\",1.0,S01E01,1.0\\n',\n",
    "  '1,JERRY,\"(pointing at Georges shirt) See, to me, that button is in the worst possible spot. The second button literally makes or breaks the shirt, look at it. Its too high! Its in no-mans-land. You look like you live with your mother.\",1.0,S01E01,1.0\\n',\n",
    "  '2,GEORGE,Are you through?,1.0,S01E01,1.0\\n',\n",
    "  '3,JERRY,\"You do of course try on, when you buy?\",1.0,S01E01,1.0\\n',\n",
    "  '4,GEORGE,\"Yes, it was purple, I liked it, I dont actually recall considering the buttons.\",1.0,S01E01,1.0\\n',\n",
    "  '5,JERRY,\"Oh, you dont recall?\",1.0,S01E01,1.0\\n',\n",
    "  '6,GEORGE,\"(on an imaginary microphone) Uh, no, not at this time.\",1.0,S01E01,1.0\\n',\n",
    "  '7,JERRY,\"Well, senator, Id just like to know, what you knew and when you knew it.\",1.0,S01E01,1.0\\n',\n",
    "  '8,CLAIRE,Mr. Seinfeld. Mr. Costanza.,1.0,S01E01,1.0\\n'])\n",
    "```"
   ]
  },
  {
   "cell_type": "code",
   "execution_count": 37,
   "metadata": {},
   "outputs": [
    {
     "data": {
      "text/plain": [
       "(54617,\n",
       " [',Character,Dialogue,EpisodeNo,SEID,Season\\n',\n",
       "  '0,JERRY,\"Do you know what this is all about? Do you know, why were here? To be out, this is out...and out is one of the single most enjoyable experiences of life. People...did you ever hear people talking about We should go out? This is what theyre talking about...this whole thing, were all out now, no one is home. Not one person here is home, were all out! There are people tryin to find us, they dont know where we are. (on an imaginary phone) Did you ring?, I cant find him. Where did he go? He didnt tell me where he was going. He must have gone out. You wanna go out you get ready, you pick out the clothes, right? You take the shower, you get all ready, get the cash, get your friends, the car, the spot, the reservation...Then youre standing around, whatta you do? You go We gotta be getting back. Once youre out, you wanna get back! You wanna go to sleep, you wanna get up, you wanna go out again tomorrow, right? Where ever you are in life, its my feeling, youve gotta go.\",1.0,S01E01,1.0\\n',\n",
       "  '1,JERRY,\"(pointing at Georges shirt) See, to me, that button is in the worst possible spot. The second button literally makes or breaks the shirt, look at it. Its too high! Its in no-mans-land. You look like you live with your mother.\",1.0,S01E01,1.0\\n',\n",
       "  '2,GEORGE,Are you through?,1.0,S01E01,1.0\\n',\n",
       "  '3,JERRY,\"You do of course try on, when you buy?\",1.0,S01E01,1.0\\n',\n",
       "  '4,GEORGE,\"Yes, it was purple, I liked it, I dont actually recall considering the buttons.\",1.0,S01E01,1.0\\n',\n",
       "  '5,JERRY,\"Oh, you dont recall?\",1.0,S01E01,1.0\\n',\n",
       "  '6,GEORGE,\"(on an imaginary microphone) Uh, no, not at this time.\",1.0,S01E01,1.0\\n',\n",
       "  '7,JERRY,\"Well, senator, Id just like to know, what you knew and when you knew it.\",1.0,S01E01,1.0\\n',\n",
       "  '8,CLAIRE,Mr. Seinfeld. Mr. Costanza.,1.0,S01E01,1.0\\n'])"
      ]
     },
     "execution_count": 37,
     "metadata": {},
     "output_type": "execute_result"
    }
   ],
   "source": [
    "# A1:SanityCheck\n",
    "\n",
    "seinfeld = load_scripts(\"data/scripts.csv\")\n",
    "len(seinfeld), seinfeld[:10]"
   ]
  },
  {
   "cell_type": "markdown",
   "metadata": {},
   "source": [
    "__A2.__ _(2 points)_ Is it possible to work with this data, simply splitting by a delimiter? Respond by filling in the below, considering any complexity in the data's structured format that necessitates an established format-specific file reader."
   ]
  },
  {
   "cell_type": "code",
   "execution_count": 1,
   "metadata": {},
   "outputs": [
    {
     "name": "stdout",
     "output_type": "stream",
     "text": [
      "No\n"
     ]
    }
   ],
   "source": [
    "# A2:Inline(2/2)\n",
    "\n",
    "# Could we correctly deserialize the data by splitting with a \",\", i.e., comma? Print \"Yes\" or \"No\"\n",
    "print(\"No\")"
   ]
  },
  {
   "cell_type": "markdown",
   "metadata": {},
   "source": [
    "__A3.__ _(2 points)_ Now complete the new function using the `csv` module to read the contents of the `data/scripts.csv` file into a list of row-lists. "
   ]
  },
  {
   "cell_type": "code",
   "execution_count": 39,
   "metadata": {},
   "outputs": [],
   "source": [
    "# A3:Function(2/2)\n",
    "\n",
    "import csv\n",
    "\n",
    "def load_scripts_csv(path_to_scripts):\n",
    "    \n",
    "    #---your code starts here---\n",
    "    with open(path_to_scripts) as file:\n",
    "        seinfeld = list(csv.reader(file, delimiter=\",\"))\n",
    "    \n",
    "    #---your code stops here\n",
    "    \n",
    "    return seinfeld"
   ]
  },
  {
   "cell_type": "markdown",
   "metadata": {},
   "source": [
    "For reference, your output should be:\n",
    "```\n",
    "(54617,\n",
    " [('KRAMER',\n",
    "   \"I got it - it's out! How about that, huh? Oh, boy, what a relief.\"),\n",
    "  ('JERRY', 'See now, to me, that button is in the worst possible spot.'),\n",
    "  ('GEORGE', 'Really?'),\n",
    "  ('JERRY',\n",
    "   \"Oh yeah. The second button is the key button. It literally makes or breaks the shirt. Look at it, it's too high, it's in no-man's land.\"),\n",
    "  ('GEORGE', \"Haven't we had this conversation before?\"),\n",
    "  ('JERRY', 'You think?'),\n",
    "  ('GEORGE', 'I think we have.'),\n",
    "  ('JERRY', 'Yeah, maybe we have.'),\n",
    "  ('JERRY',\n",
    "   \"So what is the deal with the yard? I mean when I was a kid my mother wanted me to play in the yard. But of course she didn't have to worry about my next door neighbor Tommy sticking a shiv in my thigh. And what's with the lockdown? Why do we have to be locked in our cells? Are we that bad that we have to be sent to prison, in prison? You would think the weightlifting and the sodomy is enough. So, anyone from Cellblock D?\"),\n",
    "  ('PRISONER 1', 'I am.'),\n",
    "  ('JERRY',\n",
    "   \"I'll talk slower. I'm kidding - I love Cellblock D. My friend George is in Cellblock D. What are you in for,sir?\"),\n",
    "  ('PRISONER 2', 'Murder one.'),\n",
    "  ('JERRY',\n",
    "   \"Murder one? Oooooo, watch out everybody. Better be nice to you. I'm only kidding sir - lighten up. How about you, what are you in for?\"),\n",
    "  ('PRISONER 3', 'Grand theft auto.'),\n",
    "  ('JERRY', \"Grand theft auto - don't steal any of my jokes.\"),\n",
    "  ('PRISONER 3', \"You suck - I'm gonna cut you.\"),\n",
    "  ('JERRY',\n",
    "   \"Hey, I don't come down to where you work, and knock the license plate out of your hand.\"),\n",
    "  ('GUARD', \"Alright, Seinfeld, that's it. Let's go. Come on.\"),\n",
    "  ('JERRY', \"Alright, hey, you've been great! See you in the cafeteria.\")])\n",
    "```"
   ]
  },
  {
   "cell_type": "code",
   "execution_count": 40,
   "metadata": {},
   "outputs": [
    {
     "data": {
      "text/plain": [
       "(54617,\n",
       " [('KRAMER',\n",
       "   \"I got it - it's out! How about that, huh? Oh, boy, what a relief.\"),\n",
       "  ('JERRY', 'See now, to me, that button is in the worst possible spot.'),\n",
       "  ('GEORGE', 'Really?'),\n",
       "  ('JERRY',\n",
       "   \"Oh yeah. The second button is the key button. It literally makes or breaks the shirt. Look at it, it's too high, it's in no-man's land.\"),\n",
       "  ('GEORGE', \"Haven't we had this conversation before?\"),\n",
       "  ('JERRY', 'You think?'),\n",
       "  ('GEORGE', 'I think we have.'),\n",
       "  ('JERRY', 'Yeah, maybe we have.'),\n",
       "  ('JERRY',\n",
       "   \"So what is the deal with the yard? I mean when I was a kid my mother wanted me to play in the yard. But of course she didn't have to worry about my next door neighbor Tommy sticking a shiv in my thigh. And what's with the lockdown? Why do we have to be locked in our cells? Are we that bad that we have to be sent to prison, in prison? You would think the weightlifting and the sodomy is enough. So, anyone from Cellblock D?\"),\n",
       "  ('PRISONER 1', 'I am.'),\n",
       "  ('JERRY',\n",
       "   \"I'll talk slower. I'm kidding - I love Cellblock D. My friend George is in Cellblock D. What are you in for,sir?\"),\n",
       "  ('PRISONER 2', 'Murder one.'),\n",
       "  ('JERRY',\n",
       "   \"Murder one? Oooooo, watch out everybody. Better be nice to you. I'm only kidding sir - lighten up. How about you, what are you in for?\"),\n",
       "  ('PRISONER 3', 'Grand theft auto.'),\n",
       "  ('JERRY', \"Grand theft auto - don't steal any of my jokes.\"),\n",
       "  ('PRISONER 3', \"You suck - I'm gonna cut you.\"),\n",
       "  ('JERRY',\n",
       "   \"Hey, I don't come down to where you work, and knock the license plate out of your hand.\"),\n",
       "  ('GUARD', \"Alright, Seinfeld, that's it. Let's go. Come on.\"),\n",
       "  ('JERRY', \"Alright, hey, you've been great! See you in the cafeteria.\")])"
      ]
     },
     "execution_count": 40,
     "metadata": {},
     "output_type": "execute_result"
    }
   ],
   "source": [
    "# A3:SanityCheck\n",
    "\n",
    "seinfeld = load_scripts_csv(\"data/scripts.csv\")\n",
    "len(seinfeld), [(x[1], x[2]) for x in seinfeld[-19:]]"
   ]
  },
  {
   "cell_type": "markdown",
   "metadata": {},
   "source": [
    "__A4.__ (4 pts) Now collect the data from the `Character` column and load it into a list called `speakers` to complete the below function."
   ]
  },
  {
   "cell_type": "code",
   "execution_count": 41,
   "metadata": {},
   "outputs": [],
   "source": [
    "# A4:Function(2/4)\n",
    "\n",
    "def get_speakers(seinfeld):\n",
    "    speakers = []\n",
    "\n",
    "    #---your code starts here---\n",
    "    for row in seinfeld[1:]:\n",
    "        speakers.append(row[1])\n",
    "        \n",
    "    #---your code stops here---\n",
    "    \n",
    "    return speakers\n",
    "\n"
   ]
  },
  {
   "cell_type": "markdown",
   "metadata": {},
   "source": [
    "For reference, your output should be:\n",
    "```\n",
    "(1639,\n",
    " [\"JERRY (clearly creeped out by having to shake Poppie's hand)\",\n",
    "  'JERRY and ELAINE, together',\n",
    "  'JERRY, KRAMER & NEWMAN',\n",
    "  'OLD GUY',\n",
    "  'MAN2',\n",
    "  'NEWMAN (getting an idea)',\n",
    "  'TOBY (standing)',\n",
    "  '% A night at the Improv. Jerry receives some disturbing news from the manager',\n",
    "  'ELAINE (mouths the words)',\n",
    "  'DR. BAKERSOLL',\n",
    "  'CASTRO',\n",
    "  'JERRY (offers a hot dog to Miss Rhode Island)',\n",
    "  'MACHINE',\n",
    "  'WALKER #2',\n",
    "  'WOMANEWMAN',\n",
    "  \"PITT (clearly affected by Elaine's appearance)\",\n",
    "  'OWNER (points at the bottle of maple syrup)',\n",
    "  'ICE CREAM VENDER #1',\n",
    "  'ELAINE (to Carl, flirtatiously)',\n",
    "  'Elaine, becoming board',\n",
    "  'RACHEL',\n",
    "  'STAN (out of breath)',\n",
    "  'ESTELLE (smiling)',\n",
    "  'Dedication',\n",
    "  'BOSS'])\n",
    "```"
   ]
  },
  {
   "cell_type": "code",
   "execution_count": 42,
   "metadata": {},
   "outputs": [
    {
     "data": {
      "text/plain": [
       "(1639,\n",
       " ['ELAINE (enunciating clearly so George gets the point)',\n",
       "  'MAN#3',\n",
       "  'BARTENDER',\n",
       "  'Elaine (answering)',\n",
       "  'RADIO ANNOUNCER',\n",
       "  'DUGAN',\n",
       "  'GEORGE (tosses the condom aside)',\n",
       "  \"BABU'S FRIEND\",\n",
       "  'SKYCAP',\n",
       "  \"We see the title 'Jerry', then, sitting at the comedy club, we see\",\n",
       "  'MAESTRO AND ELAINE (Simultaneously)',\n",
       "  'HIPPIE #1',\n",
       "  'SHOWALTER (considering)',\n",
       "  'KARL',\n",
       "  'NEWMAN (satisfied)',\n",
       "  'GEORGE (whistles to guy on phone)',\n",
       "  'MRS. COSTANZA',\n",
       "  'MR. CROSS',\n",
       "  'MERYL (looking for the can opener)',\n",
       "  'JERRY (points)',\n",
       "  'Bruce (laughing)',\n",
       "  'ED',\n",
       "  'MAN #4',\n",
       "  'http',\n",
       "  'ALICIA'])"
      ]
     },
     "execution_count": 42,
     "metadata": {},
     "output_type": "execute_result"
    }
   ],
   "source": [
    "# A4:SanityCheck\n",
    "speakers = get_speakers(seinfeld)\n",
    "characters = set(speakers)\n",
    "len(characters), list(characters)[:25]"
   ]
  },
  {
   "cell_type": "code",
   "execution_count": 43,
   "metadata": {},
   "outputs": [
    {
     "name": "stdout",
     "output_type": "stream",
     "text": [
      "Needs more pre-processing\n"
     ]
    }
   ],
   "source": [
    "# A4:Inline(2/4)\n",
    "\n",
    "# Does the character column separate individual speakers, \n",
    "# or does it need more pre-processing to study individuals? \n",
    "# Print \"Separates individual speakers.\" or \"Needs more pre-processing.\"\n",
    "print(\"Needs more pre-processing\")"
   ]
  },
  {
   "cell_type": "markdown",
   "metadata": {},
   "source": [
    "__A5.__ _(2 points)_ Now complete the function to count the dialogue entries for the four major characters (`\"JERRY\"`, `\"GEORGE\"`, `\"ELAINE\"`, and `\"KRAMER\"`), using your output from the `get_speakers()` function and a dictionary (you are not allowed to use the `Counter` data structure for any component of this module). "
   ]
  },
  {
   "cell_type": "code",
   "execution_count": 44,
   "metadata": {},
   "outputs": [],
   "source": [
    "# A5:Function(2/2)\n",
    "\n",
    "def count_four_main(speakers):\n",
    "    counts = {\n",
    "        \"JERRY\" : 0,\n",
    "        \"GEORGE\" : 0,\n",
    "        \"ELAINE\" : 0,\n",
    "        \"KRAMER\" : 0\n",
    "    }\n",
    "\n",
    "    #---your code starts here---\n",
    "    for character in speakers:        \n",
    "    #---your code stops here---\n",
    "        if character in counts:\n",
    "            counts[character] += 1\n",
    "        \n",
    "            \n",
    "    return counts"
   ]
  },
  {
   "cell_type": "markdown",
   "metadata": {},
   "source": [
    "For reference, your output should be:\n",
    "```\n",
    "{'JERRY': 14786, 'GEORGE': 9708, 'ELAINE': 7983, 'KRAMER': 6664}\n",
    "```"
   ]
  },
  {
   "cell_type": "code",
   "execution_count": 45,
   "metadata": {},
   "outputs": [
    {
     "data": {
      "text/plain": [
       "{'JERRY': 14786, 'GEORGE': 9708, 'ELAINE': 7983, 'KRAMER': 6664}"
      ]
     },
     "execution_count": 45,
     "metadata": {},
     "output_type": "execute_result"
    }
   ],
   "source": [
    "# A5:SanityCheck\n",
    "\n",
    "counts = count_four_main(speakers)\n",
    "counts"
   ]
  },
  {
   "cell_type": "markdown",
   "metadata": {},
   "source": [
    "__A6.__ _(3 points)_ Now complete the function to count the number of words spoken by each of the main characters using a dictionary. Note, this means returning to operate on the full `seinfeld` data object.\n",
    "\n",
    "Note: For all word counting in this module, simply use the `.split()` method on strings."
   ]
  },
  {
   "cell_type": "code",
   "execution_count": 46,
   "metadata": {},
   "outputs": [],
   "source": [
    "# A6:Function(3/3)\n",
    "\n",
    "def count_words_spoken(seinfeld):\n",
    "    words_spoken = {\n",
    "        \"JERRY\" : 0,\n",
    "        \"GEORGE\" : 0,\n",
    "        \"ELAINE\" : 0,\n",
    "        \"KRAMER\" : 0\n",
    "    }\n",
    "\n",
    "    #---your code starts here---\n",
    "    for row in seinfeld[1:]:   \n",
    "        character, words = row[1], row[2].split()\n",
    "        if character in words_spoken:\n",
    "            words_spoken[character] += len(words)\n",
    "    #---your code stops here---\n",
    "    \n",
    "    return words_spoken"
   ]
  },
  {
   "cell_type": "markdown",
   "metadata": {},
   "source": [
    "For reference, your output should be:\n",
    "```\n",
    "{'JERRY': 147389, 'GEORGE': 107029, 'ELAINE': 74634, 'KRAMER': 70299}\n",
    "```"
   ]
  },
  {
   "cell_type": "code",
   "execution_count": 47,
   "metadata": {},
   "outputs": [
    {
     "data": {
      "text/plain": [
       "{'JERRY': 147389, 'GEORGE': 107029, 'ELAINE': 74634, 'KRAMER': 70299}"
      ]
     },
     "execution_count": 47,
     "metadata": {},
     "output_type": "execute_result"
    }
   ],
   "source": [
    "# A6:SanityCheck\n",
    "\n",
    "words_spoken = count_words_spoken(seinfeld)\n",
    "words_spoken"
   ]
  },
  {
   "cell_type": "markdown",
   "metadata": {},
   "source": [
    "__A7.__ _(4 points)_ Now complete the below function to count the words spoken by each of the four main characters using only a dictionary. Again, no counters are allowed for word counting in this module, and just use the `.split()` method on strings to tokenize words."
   ]
  },
  {
   "cell_type": "code",
   "execution_count": 48,
   "metadata": {},
   "outputs": [],
   "source": [
    "def count_words(seinfeld):\n",
    "    word_counts = {\n",
    "        \"JERRY\" : {},\n",
    "        \"GEORGE\" : {},\n",
    "        \"ELAINE\" : {},\n",
    "        \"KRAMER\" : {}\n",
    "    }\n",
    "\n",
    "    #---your code starts here---\n",
    "    for row in seinfeld[1:]:\n",
    "        character, words = row[1], row[2].split()\n",
    "        if character in word_counts:\n",
    "            \n",
    "    \n",
    "            for word in words:\n",
    "            \n",
    "                word = word.lower()\n",
    "                \n",
    "                if word not in word_counts[character]:\n",
    "                    word_counts[character][word] = 1\n",
    "                    \n",
    "                else:\n",
    "                    word_counts[character][word] += 1\n",
    "                    \n",
    "    #---your code stops here---\n",
    "    return word_counts\n"
   ]
  },
  {
   "cell_type": "markdown",
   "metadata": {},
   "source": [
    "For reference, your output should be:\n",
    "```\n",
    "([('yada', 2.0354300524462478e-05, 6.699359541227859e-05),\n",
    "  ('yada', 2.0354300524462478e-05, 6.699359541227859e-05),\n",
    "  (\"what's\", 0.0016554831093229482, 0.001232682155585926),\n",
    "  ('babka', 1.3569533682974984e-05, 0.0)],\n",
    " '?')\n",
    "```"
   ]
  },
  {
   "cell_type": "code",
   "execution_count": 49,
   "metadata": {},
   "outputs": [
    {
     "data": {
      "text/plain": [
       "([('yada', 2.0354300524462478e-05, 6.699359541227859e-05),\n",
       "  ('yada', 2.0354300524462478e-05, 6.699359541227859e-05),\n",
       "  (\"what's\", 0.0016554831093229482, 0.001232682155585926),\n",
       "  ('babka', 1.3569533682974984e-05, 0.0)],\n",
       " '?')"
      ]
     },
     "execution_count": 49,
     "metadata": {},
     "output_type": "execute_result"
    }
   ],
   "source": [
    "# A7:SanityCheck\n",
    "\n",
    "# who says it more often?\n",
    "word_counts = count_words(seinfeld)\n",
    "jerry_total = sum(word_counts[\"JERRY\"].values())\n",
    "elaine_total = sum(word_counts[\"ELAINE\"].values())\n",
    "[(word, word_counts[\"JERRY\"].get(word, 0)/jerry_total, word_counts[\"ELAINE\"].get(word, 0)/elaine_total)\n",
    " for word in [\"yada\", \"yada\", \"what's\", \"babka\"]], \"?\""
   ]
  },
  {
   "cell_type": "markdown",
   "metadata": {},
   "source": [
    "__A8.__ _(6 points)_ Finally, complete the function below. This should load the `data/stop-words.txt` file into a list and then output a dictionary of the `N` most common words for each of the main characters that are _not_ on the this list of stop words. The output `most_common_words` should be a dictionary of `N`-element lists, with each element consisting of a `(word,count)` tuple. Note: each character's most-common words should be sorted from high-to-low."
   ]
  },
  {
   "cell_type": "code",
   "execution_count": 50,
   "metadata": {},
   "outputs": [],
   "source": [
    "# A8:Function(6/6)\n",
    "\n",
    "stop_words = [word.strip() for word in open(\"data/stop-words.txt\", \"r\").readlines()]\n",
    "\n",
    "def get_top_N(word_counts, stop_words, N = 10):\n",
    "    most_common_words = {\n",
    "        \"JERRY\" : [],\n",
    "        \"GEORGE\" : [],\n",
    "        \"ELAINE\" : [],\n",
    "        \"KRAMER\" : []\n",
    "    }\n",
    "\n",
    "    #---your code starts here---\n",
    "    \n",
    "    for character, words in word_counts.items():\n",
    "        \n",
    "        for word, count in list(words.items()):\n",
    "            \n",
    "            if word.lower() not in stop_words:\n",
    "                most_common_words[character].append((word, count))\n",
    "                    \n",
    "\n",
    "        most_common_words[character].sort(key=lambda x: x[1], reverse=True)\n",
    "        most_common_words[character] = most_common_words[character][:N]\n",
    "        \n",
    "    #---your code stops here---\n",
    "    return most_common_words"
   ]
  },
  {
   "cell_type": "markdown",
   "metadata": {},
   "source": [
    "For reference, your output should be:\n",
    "```\n",
    "{'JERRY': [(\"i'm\", 888),\n",
    "  ('like', 783),\n",
    "  ('get', 736),\n",
    "  ('know', 697),\n",
    "  ('well,', 607),\n",
    "  ('oh,', 595),\n",
    "  (\"that's\", 544),\n",
    "  ('it.', 521),\n",
    "  ('got', 512),\n",
    "  ('yeah,', 510)],\n",
    " 'GEORGE': [(\"i'm\", 826),\n",
    "  ('like', 583),\n",
    "  ('get', 492),\n",
    "  ('know', 483),\n",
    "  ('think', 379),\n",
    "  ('got', 375),\n",
    "  ('well,', 370),\n",
    "  (\"that's\", 366),\n",
    "  ('oh,', 353),\n",
    "  ('it.', 328)],\n",
    " 'ELAINE': [('oh,', 506),\n",
    "  (\"i'm\", 495),\n",
    "  ('well,', 353),\n",
    "  ('know', 330),\n",
    "  ('get', 309),\n",
    "  ('yeah,', 307),\n",
    "  ('no,', 307),\n",
    "  ('like', 298),\n",
    "  ('got', 267),\n",
    "  ('what?', 258)],\n",
    " 'KRAMER': [('well,', 576),\n",
    "  (\"i'm\", 554),\n",
    "  ('yeah,', 515),\n",
    "  ('oh,', 403),\n",
    "  ('got', 395),\n",
    "  ('get', 330),\n",
    "  ('no,', 298),\n",
    "  ('yeah.', 298),\n",
    "  ('like', 294),\n",
    "  ('know', 291)]}\n",
    "```"
   ]
  },
  {
   "cell_type": "code",
   "execution_count": 51,
   "metadata": {},
   "outputs": [
    {
     "data": {
      "text/plain": [
       "{'JERRY': [(\"i'm\", 888),\n",
       "  ('like', 783),\n",
       "  ('get', 736),\n",
       "  ('know', 697),\n",
       "  ('well,', 607),\n",
       "  ('oh,', 595),\n",
       "  (\"that's\", 544),\n",
       "  ('it.', 521),\n",
       "  ('got', 512),\n",
       "  ('yeah,', 510)],\n",
       " 'GEORGE': [(\"i'm\", 826),\n",
       "  ('like', 583),\n",
       "  ('get', 492),\n",
       "  ('know', 483),\n",
       "  ('think', 379),\n",
       "  ('got', 375),\n",
       "  ('well,', 370),\n",
       "  (\"that's\", 366),\n",
       "  ('oh,', 353),\n",
       "  ('it.', 328)],\n",
       " 'ELAINE': [('oh,', 506),\n",
       "  (\"i'm\", 495),\n",
       "  ('well,', 353),\n",
       "  ('know', 330),\n",
       "  ('get', 309),\n",
       "  ('yeah,', 307),\n",
       "  ('no,', 307),\n",
       "  ('like', 298),\n",
       "  ('got', 267),\n",
       "  ('what?', 258)],\n",
       " 'KRAMER': [('well,', 576),\n",
       "  (\"i'm\", 554),\n",
       "  ('yeah,', 515),\n",
       "  ('oh,', 403),\n",
       "  ('got', 395),\n",
       "  ('get', 330),\n",
       "  ('no,', 298),\n",
       "  ('yeah.', 298),\n",
       "  ('like', 294),\n",
       "  ('know', 291)]}"
      ]
     },
     "execution_count": 51,
     "metadata": {},
     "output_type": "execute_result"
    }
   ],
   "source": [
    "# A8:SanityCheck\n",
    "\n",
    "most_common_words = get_top_N(word_counts, stop_words)\n",
    "most_common_words"
   ]
  },
  {
   "cell_type": "code",
   "execution_count": null,
   "metadata": {},
   "outputs": [],
   "source": []
  },
  {
   "cell_type": "code",
   "execution_count": null,
   "metadata": {},
   "outputs": [],
   "source": []
  }
 ],
 "metadata": {
  "kernelspec": {
   "display_name": "Python 3",
   "language": "python",
   "name": "python3"
  },
  "language_info": {
   "codemirror_mode": {
    "name": "ipython",
    "version": 3
   },
   "file_extension": ".py",
   "mimetype": "text/x-python",
   "name": "python",
   "nbconvert_exporter": "python",
   "pygments_lexer": "ipython3",
   "version": "3.11.5"
  }
 },
 "nbformat": 4,
 "nbformat_minor": 4
}
